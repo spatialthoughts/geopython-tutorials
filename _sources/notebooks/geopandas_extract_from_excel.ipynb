{
 "cells": [
  {
   "cell_type": "markdown",
   "metadata": {
    "id": "N6CsIukeW1-7"
   },
   "source": [
    "# Extract a Shapefile Subset from Excel\n",
    "\n",
    "## Overview\n",
    "\n",
    "This tutorial shows you how to use extract a subset from a shapefile using data contained in an Excel spreadsheet.\n",
    "\n",
    "We will be working with a parcels data layer for the city of San Francisco, California. Given a list of parcel ids in a spreadsheet, we will extract those parcels and save it to another data layer.\n",
    "\n",
    "**Input Layers**:\n",
    "* `sf_parcels.zip`: A shapefile of parcels San Francisco\n",
    "* `parcels_to_export.xlsx`: A spreadsheet containing list of parcels to export.\n",
    "\n",
    "**Output**:\n",
    "* `subset.zip`: A zipped shapefile containing a subset of parcels based on the spreadsheet.\n",
    "\n",
    "**Data Credit**:\n",
    "* Parcels downloaded from [DataSF Open Data Portal](https://datasf.org/opendata/)\n",
    "\n",
    "**Video Walkthrough**: [![Watch on YouTube](https://img.shields.io/badge/YouTube-%23FF0000.svg)](https://www.youtube.com/watch?v=p7QzF8kQogo)"
   ]
  },
  {
   "cell_type": "markdown",
   "metadata": {
    "id": "JepwzAj2U5L5"
   },
   "source": [
    "## Setup and Data Download\n",
    "\n",
    "The following blocks of code will install the required packages and download the datasets to your Colab environment."
   ]
  },
  {
   "cell_type": "code",
   "execution_count": 2,
   "metadata": {
    "id": "uQovPAjjU5L6"
   },
   "outputs": [],
   "source": [
    "import os\n",
    "import pandas as pd\n",
    "import geopandas as gpd\n",
    "import zipfile"
   ]
  },
  {
   "cell_type": "code",
   "execution_count": null,
   "metadata": {
    "id": "-Zndcd8KU5L6"
   },
   "outputs": [],
   "source": [
    "data_folder = 'data'\n",
    "output_folder = 'output'\n",
    "\n",
    "if not os.path.exists(data_folder):\n",
    "    os.mkdir(data_folder)\n",
    "if not os.path.exists(output_folder):\n",
    "    os.mkdir(output_folder)"
   ]
  },
  {
   "cell_type": "code",
   "execution_count": null,
   "metadata": {
    "id": "N9cAjPXSU5L6"
   },
   "outputs": [],
   "source": [
    "def download(url):\n",
    "    filename = os.path.join(data_folder, os.path.basename(url))\n",
    "    if not os.path.exists(filename):\n",
    "        from urllib.request import urlretrieve\n",
    "        local, _ = urlretrieve(url, filename)\n",
    "        print('Downloaded ' + local)\n",
    "\n",
    "data_url = 'https://github.com/spatialthoughts/geopython-tutorials/releases/download/data/'\n",
    "\n",
    "download(data_url + 'sf_parcels.zip')\n",
    "download(data_url + 'parcels_to_export.xlsx')"
   ]
  },
  {
   "cell_type": "markdown",
   "metadata": {
    "id": "-D-U34cbYkrC"
   },
   "source": [
    "## Procedure"
   ]
  },
  {
   "cell_type": "markdown",
   "metadata": {
    "id": "gE90KEg9Z9BU"
   },
   "source": [
    "We first unzip the `sf_parcels.zip` archive and extract the shapefile contained inside. Then we can read it using GeoPandas.\n",
    "\n",
    "> GeoPandas can read zipped files directly using the `zip://` prefix as described in [Reading and Writing Files](https://geopandas.org/en/stable/docs/user_guide/io.html) section of the documentation. `gpd.read_file('zip:///data/sf_parcels.zip')`. But it was much slower than unzipping and reading the shapefile."
   ]
  },
  {
   "cell_type": "code",
   "execution_count": null,
   "metadata": {
    "id": "QWwnTyVyoFMr"
   },
   "outputs": [],
   "source": [
    "parcels_filepath = os.path.join(data_folder, 'sf_parcels.zip')"
   ]
  },
  {
   "cell_type": "markdown",
   "metadata": {
    "id": "NWqvtTRPb27L"
   },
   "source": [
    "We use Python's built-in `zipfile` module to extract the files in the data directory."
   ]
  },
  {
   "cell_type": "code",
   "execution_count": null,
   "metadata": {
    "id": "zIxrmIW0Y9By"
   },
   "outputs": [],
   "source": [
    "with zipfile.ZipFile(parcels_filepath) as zf:\n",
    "  zf.extractall(data_folder)"
   ]
  },
  {
   "cell_type": "markdown",
   "metadata": {
    "id": "XoHkIBvzb-6z"
   },
   "source": [
    "Once unzipped, we can read the parcels shapefile using GeoPandas."
   ]
  },
  {
   "cell_type": "code",
   "execution_count": null,
   "metadata": {
    "id": "0kv8x2JCoMFG"
   },
   "outputs": [],
   "source": [
    "parcels_shp = os.path.join(data_folder, 'sf_parcels.shp')\n",
    "parcels_gdf = gpd.read_file(parcels_shp)"
   ]
  },
  {
   "cell_type": "markdown",
   "metadata": {
    "id": "X-la_03PcLth"
   },
   "source": [
    "Preview the resulting GeoDataFrame. The parcel ids are contained in the `mapblklot` column."
   ]
  },
  {
   "cell_type": "code",
   "execution_count": null,
   "metadata": {
    "id": "Kz-zLg_ucLAh"
   },
   "outputs": [],
   "source": [
    "parcels_gdf"
   ]
  },
  {
   "cell_type": "markdown",
   "metadata": {
    "id": "IIszH40icQ_h"
   },
   "source": [
    "Next, we read the Excel file containing the parcel ids that we need to export."
   ]
  },
  {
   "cell_type": "code",
   "execution_count": null,
   "metadata": {
    "id": "OwYzuk3QoQxl"
   },
   "outputs": [],
   "source": [
    "export_file_path = os.path.join(data_folder, 'parcels_to_export.xlsx')"
   ]
  },
  {
   "cell_type": "markdown",
   "metadata": {
    "id": "X4kJD_XOciij"
   },
   "source": [
    "Pandas can read Excel files directly using `read_excel()` function. If you get an error, make sure to install the package `openpyxl` which is used to read excel files."
   ]
  },
  {
   "cell_type": "code",
   "execution_count": null,
   "metadata": {
    "id": "Pc2UHj9VprO9"
   },
   "outputs": [],
   "source": [
    "export_df = pd.read_excel(export_file_path)\n",
    "export_df"
   ]
  },
  {
   "cell_type": "markdown",
   "metadata": {
    "id": "5dRTB-ONctAL"
   },
   "source": [
    "We need to export all parcels whose ids are given in the `mapblklot` column. We extract that column and create a list."
   ]
  },
  {
   "cell_type": "code",
   "execution_count": null,
   "metadata": {
    "id": "7jPpLxJvpxw8"
   },
   "outputs": [],
   "source": [
    "id_list = export_df['blklot'].values\n",
    "id_list"
   ]
  },
  {
   "cell_type": "markdown",
   "metadata": {
    "id": "2sFfj8Y4dCGq"
   },
   "source": [
    "Now we can use Pandas `isin()` method to filter the GeoDataFrame where the `\n",
    "blklot` column matches any ids from the `id_list`."
   ]
  },
  {
   "cell_type": "code",
   "execution_count": null,
   "metadata": {
    "id": "mjJ_I_AsqE4p"
   },
   "outputs": [],
   "source": [
    "subset_gdf = parcels_gdf[parcels_gdf['blklot'].isin(id_list)]\n",
    "subset_gdf"
   ]
  },
  {
   "cell_type": "markdown",
   "metadata": {
    "id": "rFuW7npBdWBb"
   },
   "source": [
    "We have successfully selected the subset of parcels. We are ready to save the resulting GeoDataFrame as a shapefile. We define the output file path and save the `subset_gdf`."
   ]
  },
  {
   "cell_type": "code",
   "execution_count": null,
   "metadata": {
    "id": "2adR9beyqSbw"
   },
   "outputs": [],
   "source": [
    "output_file = 'subset.shp'\n",
    "output_path = os.path.join(output_folder, output_file)"
   ]
  },
  {
   "cell_type": "code",
   "execution_count": null,
   "metadata": {
    "id": "kyHcRUOfqmgV"
   },
   "outputs": [],
   "source": [
    "subset_gdf.to_file(output_path)"
   ]
  },
  {
   "cell_type": "markdown",
   "metadata": {
    "id": "TWr7mRiQdvAa"
   },
   "source": [
    "For ease of data sharing, let's zip all the shapefile parts into a single archive. We again use the `zipfile` module and use the `write()` method to add each sidecar file for the shapefile. The `arcname` parameter is used to avoid creating a sub-folder inside the archive."
   ]
  },
  {
   "cell_type": "code",
   "execution_count": null,
   "metadata": {
    "id": "AhD3TXNfqop0"
   },
   "outputs": [],
   "source": [
    "output_zip = 'subset.zip'\n",
    "output_zip_path = os.path.join(output_folder, output_zip)\n",
    "\n",
    "with zipfile.ZipFile(output_zip_path, 'w') as output_zf:\n",
    "  for ext in ['.shp', '.shx', '.prj', '.dbf']:\n",
    "    filename = 'subset' + ext\n",
    "    filepath = os.path.join(output_folder, filename)\n",
    "    output_zf.write(filepath, arcname=filename)"
   ]
  }
 ],
 "metadata": {
  "colab": {
   "authorship_tag": "ABX9TyNN8jPiJlLRGqVPDfy1xf1X",
   "provenance": []
  },
  "kernelspec": {
   "display_name": "Python 3 (ipykernel)",
   "language": "python",
   "name": "python3"
  },
  "language_info": {
   "codemirror_mode": {
    "name": "ipython",
    "version": 3
   },
   "file_extension": ".py",
   "mimetype": "text/x-python",
   "name": "python",
   "nbconvert_exporter": "python",
   "pygments_lexer": "ipython3",
   "version": "3.13.1"
  }
 },
 "nbformat": 4,
 "nbformat_minor": 4
}
