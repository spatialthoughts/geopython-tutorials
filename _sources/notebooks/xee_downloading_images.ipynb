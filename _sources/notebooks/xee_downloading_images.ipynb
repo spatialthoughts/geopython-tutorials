{
  "nbformat": 4,
  "nbformat_minor": 0,
  "metadata": {
    "colab": {
      "provenance": []
    },
    "kernelspec": {
      "name": "python3",
      "display_name": "Python 3"
    },
    "language_info": {
      "name": "python"
    }
  },
  "cells": [
    {
      "cell_type": "markdown",
      "source": [
        "# Extracting Raster Data\n",
        "\n",
        "## **Overview**\n",
        "\n",
        "This is a demonstration of how we can use the [XEE](https://github.com/google/Xee) package to directly extract a raster from GEE and save it as a GeoTIFF file. This process skips the export process and uses `rioxarray` to save the extracted XArray DataSet to a GeoTIFF file.\n"
      ],
      "metadata": {
        "id": "VCi5DKHB7jag"
      }
    },
    {
      "cell_type": "markdown",
      "source": [
        "## Setup and Data Download\n",
        "\n",
        "The following blocks of code will install the required packages and download the datasets to your Colab environment."
      ],
      "metadata": {
        "id": "YauILMlxtHa_"
      }
    },
    {
      "cell_type": "code",
      "source": [
        "%%capture\n",
        "if 'google.colab' in str(get_ipython()):\n",
        "    !pip install --upgrade xee\n",
        "    !pip install rioxarray\n"
      ],
      "metadata": {
        "id": "aQpTzbC0l73O"
      },
      "execution_count": null,
      "outputs": []
    },
    {
      "cell_type": "code",
      "source": [
        "import ee\n",
        "import xarray\n",
        "import rioxarray as rxr\n",
        "import matplotlib.pyplot as plt\n",
        "import pandas as pd\n",
        "import os\n",
        "import datetime\n",
        "import numpy as np"
      ],
      "metadata": {
        "id": "NaQVEndwjA-K"
      },
      "execution_count": null,
      "outputs": []
    },
    {
      "cell_type": "code",
      "source": [
        "output_folder = 'output'\n",
        "\n",
        "if not os.path.exists(output_folder):\n",
        "    os.mkdir(output_folder)"
      ],
      "metadata": {
        "id": "CZ5RXe5hzE-v"
      },
      "execution_count": null,
      "outputs": []
    },
    {
      "cell_type": "markdown",
      "source": [
        "Initialize EE with the [High-Volume EndPoint](https://developers.google.com/earth-engine/guides/processing_environments#high-volume_endpoint) recommended to be used with XEE.\n",
        "\n",
        "Replace the cloud_project with your own project from [Google Cloud Console](https://console.cloud.google.com/)."
      ],
      "metadata": {
        "id": "3eetsnKrVehe"
      }
    },
    {
      "cell_type": "code",
      "source": [
        "cloud_project = 'spatialthoughts'\n",
        "\n",
        "try:\n",
        "    ee.Initialize(project=cloud_project, opt_url='https://earthengine-highvolume.googleapis.com')\n",
        "except:\n",
        "    ee.Authenticate()\n",
        "    ee.Initialize(project=cloud_project, opt_url='https://earthengine-highvolume.googleapis.com')"
      ],
      "metadata": {
        "id": "HE-KmIohjc9I"
      },
      "execution_count": null,
      "outputs": []
    },
    {
      "cell_type": "markdown",
      "source": [
        "## Procedure"
      ],
      "metadata": {
        "id": "jLDJ2X57aiae"
      }
    },
    {
      "cell_type": "markdown",
      "source": [
        "Here we will use the [LandScan Population Data Global 1km](https://developers.google.com/earth-engine/datasets/catalog/projects_sat-io_open-datasets_ORNL_LANDSCAN_GLOBAL) from the Awesome GEE Community Catalog Catalog and extract a population raster for 2023. For the country boundary, we will use the [LSIB 2017: Large Scale International Boundary Polygons](https://developers.google.com/earth-engine/datasets/catalog/USDOS_LSIB_SIMPLE_2017) dataset.\n",
        "\n",
        "\n",
        "\n"
      ],
      "metadata": {
        "id": "2MMuY8Ic-pX3"
      }
    },
    {
      "cell_type": "markdown",
      "source": [
        "Select a country and extract the geometry."
      ],
      "metadata": {
        "id": "nQpejVW_XGRY"
      }
    },
    {
      "cell_type": "code",
      "source": [
        "country = 'Kenya'\n",
        "\n",
        "lsib = ee.FeatureCollection('USDOS/LSIB_SIMPLE/2017')\n",
        "country_boundary = lsib.filter(ee.Filter.eq('country_na', country))\n",
        "geometry = country_boundary.geometry()"
      ],
      "metadata": {
        "id": "0xLu9-Oqj2pk"
      },
      "execution_count": null,
      "outputs": []
    },
    {
      "cell_type": "markdown",
      "source": [
        "Select the population raster from Landscan."
      ],
      "metadata": {
        "id": "ri4T-ODhXKgJ"
      }
    },
    {
      "cell_type": "code",
      "source": [
        "year = 2023\n",
        "start_date = ee.Date.fromYMD(year, 1, 1)\n",
        "end_date = ee.Date.fromYMD(year+1, 1, 1)\n",
        "landscan = ee.ImageCollection('projects/sat-io/open-datasets/ORNL/LANDSCAN_GLOBAL')\n",
        "filtered = landscan.filter(ee.Filter.date(start_date, end_date))\n",
        "image = filtered.first()"
      ],
      "metadata": {
        "id": "U8ltXzZQXPKI"
      },
      "execution_count": null,
      "outputs": []
    },
    {
      "cell_type": "markdown",
      "source": [
        "We now clip the image to prepare it for download. XEE works only with ImageCollections so we convert the clipped image to an ImageCollection."
      ],
      "metadata": {
        "id": "YdYkFXnualgo"
      }
    },
    {
      "cell_type": "code",
      "source": [
        "clipped = image.clip(geometry)\n",
        "clipped_col = ee.ImageCollection([clipped])"
      ],
      "metadata": {
        "id": "UuTcwVqXZeym"
      },
      "execution_count": null,
      "outputs": []
    },
    {
      "cell_type": "markdown",
      "source": [
        "Now we have an ImageCollection that we want to get it as a XArray Dataset. We define the region of interest and extract the ImageCollection using the 'ee' engine. XEE needs `scale` to be in the same unit as the CRS, so we use `0.0083333333333333` (i.e 1km)."
      ],
      "metadata": {
        "id": "meBFO01O-2SQ"
      }
    },
    {
      "cell_type": "code",
      "source": [
        "ds = xarray.open_dataset(\n",
        "    clipped_col,\n",
        "    engine='ee',\n",
        "    crs='EPSG:4326',\n",
        "    scale=0.0083333333333333,\n",
        "    geometry=geometry,\n",
        ")"
      ],
      "metadata": {
        "id": "heqlVMyJkfap"
      },
      "execution_count": null,
      "outputs": []
    },
    {
      "cell_type": "code",
      "source": [
        "ds"
      ],
      "metadata": {
        "id": "vh4pSf6LYIPs"
      },
      "execution_count": null,
      "outputs": []
    },
    {
      "cell_type": "markdown",
      "source": [
        "The Dataset has only 1 time coordinate (the chosen year) and 1 variable (the band b1). Select it to get a DataArray."
      ],
      "metadata": {
        "id": "XoBeHoaE_EWq"
      }
    },
    {
      "cell_type": "code",
      "source": [
        "da = ds.isel(time=0).b1\n",
        "da"
      ],
      "metadata": {
        "id": "kX44ne6LlAss"
      },
      "execution_count": null,
      "outputs": []
    },
    {
      "cell_type": "markdown",
      "source": [
        "We can now clip and save the results as using `rioxarray` as GeoTIFF file."
      ],
      "metadata": {
        "id": "s6Ify-3aY9qh"
      }
    },
    {
      "cell_type": "code",
      "source": [
        "# transform the image to suit rioxarray format\n",
        "da_export = da \\\n",
        "  .rename({'lat': 'y', 'lon': 'x'}) \\\n",
        "  .transpose('y', 'x') \\\n",
        "  .rio.write_crs('EPSG:4326')\n",
        "\n",
        "output_file = 'population.tif'\n",
        "output_path = os.path.join(output_folder, output_file)\n",
        "da_export.rio.to_raster(output_path, driver='COG')"
      ],
      "metadata": {
        "id": "Fik-Cya_5pWO"
      },
      "execution_count": null,
      "outputs": []
    }
  ]
}